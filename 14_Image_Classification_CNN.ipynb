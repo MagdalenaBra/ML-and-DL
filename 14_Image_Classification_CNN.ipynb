{
  "nbformat": 4,
  "nbformat_minor": 0,
  "metadata": {
    "colab": {
      "provenance": [],
      "toc_visible": true,
      "authorship_tag": "ABX9TyOBSQCVuhTdG8S5cEmkUCkw",
      "include_colab_link": true
    },
    "kernelspec": {
      "name": "python3",
      "display_name": "Python 3"
    },
    "language_info": {
      "name": "python"
    },
    "accelerator": "TPU"
  },
  "cells": [
    {
      "cell_type": "markdown",
      "metadata": {
        "id": "view-in-github",
        "colab_type": "text"
      },
      "source": [
        "<a href=\"https://colab.research.google.com/github/MagdalenaBra/ML-and-DL/blob/main/14_Image_Classification_CNN.ipynb\" target=\"_parent\"><img src=\"https://colab.research.google.com/assets/colab-badge.svg\" alt=\"Open In Colab\"/></a>"
      ]
    },
    {
      "cell_type": "markdown",
      "source": [
        "# 1: Installation and setup"
      ],
      "metadata": {
        "id": "q6VjTKFKtuM-"
      }
    },
    {
      "cell_type": "code",
      "execution_count": 3,
      "metadata": {
        "id": "v2FRq0mHtjNj"
      },
      "outputs": [],
      "source": [
        "! pip install -q tensorflow"
      ]
    },
    {
      "cell_type": "code",
      "source": [
        "import tensorflow as tf\n",
        "print(tf.__version__)"
      ],
      "metadata": {
        "colab": {
          "base_uri": "https://localhost:8080/"
        },
        "id": "4YT8uYs1ttP6",
        "outputId": "fc1837ae-e6c4-43f0-ff13-ed1b201d6217"
      },
      "execution_count": 4,
      "outputs": [
        {
          "output_type": "stream",
          "name": "stdout",
          "text": [
            "2.13.0\n"
          ]
        }
      ]
    },
    {
      "cell_type": "code",
      "source": [
        "import numpy as np\n",
        "import pandas as pd\n",
        "import matplotlib.pyplot as plt"
      ],
      "metadata": {
        "id": "cvZSKqyGxeka"
      },
      "execution_count": 5,
      "outputs": []
    },
    {
      "cell_type": "markdown",
      "source": [
        "# 2: Importing the dataset"
      ],
      "metadata": {
        "id": "2XpdSA9Mxs1o"
      }
    },
    {
      "cell_type": "code",
      "source": [
        "# Installing kaggle API\n",
        "! pip install -q kaggle"
      ],
      "metadata": {
        "id": "TQm6gaDhxenH"
      },
      "execution_count": 6,
      "outputs": []
    },
    {
      "cell_type": "code",
      "source": [
        "# create a directory as kaggle\n",
        "! mkdir -p ~/.kaggle"
      ],
      "metadata": {
        "id": "89HdXKb-xepk"
      },
      "execution_count": 7,
      "outputs": []
    },
    {
      "cell_type": "code",
      "source": [
        "# Import API key to google colab\n",
        "from google.colab import files\n",
        "uploaded = files.upload()"
      ],
      "metadata": {
        "colab": {
          "base_uri": "https://localhost:8080/",
          "height": 73
        },
        "id": "pKmjeeIgxey0",
        "outputId": "c98a95b9-f043-406e-e2f9-5de0e93f5808"
      },
      "execution_count": 8,
      "outputs": [
        {
          "output_type": "display_data",
          "data": {
            "text/plain": [
              "<IPython.core.display.HTML object>"
            ],
            "text/html": [
              "\n",
              "     <input type=\"file\" id=\"files-67f724f4-6dbb-40b6-a85a-37203aae4285\" name=\"files[]\" multiple disabled\n",
              "        style=\"border:none\" />\n",
              "     <output id=\"result-67f724f4-6dbb-40b6-a85a-37203aae4285\">\n",
              "      Upload widget is only available when the cell has been executed in the\n",
              "      current browser session. Please rerun this cell to enable.\n",
              "      </output>\n",
              "      <script>// Copyright 2017 Google LLC\n",
              "//\n",
              "// Licensed under the Apache License, Version 2.0 (the \"License\");\n",
              "// you may not use this file except in compliance with the License.\n",
              "// You may obtain a copy of the License at\n",
              "//\n",
              "//      http://www.apache.org/licenses/LICENSE-2.0\n",
              "//\n",
              "// Unless required by applicable law or agreed to in writing, software\n",
              "// distributed under the License is distributed on an \"AS IS\" BASIS,\n",
              "// WITHOUT WARRANTIES OR CONDITIONS OF ANY KIND, either express or implied.\n",
              "// See the License for the specific language governing permissions and\n",
              "// limitations under the License.\n",
              "\n",
              "/**\n",
              " * @fileoverview Helpers for google.colab Python module.\n",
              " */\n",
              "(function(scope) {\n",
              "function span(text, styleAttributes = {}) {\n",
              "  const element = document.createElement('span');\n",
              "  element.textContent = text;\n",
              "  for (const key of Object.keys(styleAttributes)) {\n",
              "    element.style[key] = styleAttributes[key];\n",
              "  }\n",
              "  return element;\n",
              "}\n",
              "\n",
              "// Max number of bytes which will be uploaded at a time.\n",
              "const MAX_PAYLOAD_SIZE = 100 * 1024;\n",
              "\n",
              "function _uploadFiles(inputId, outputId) {\n",
              "  const steps = uploadFilesStep(inputId, outputId);\n",
              "  const outputElement = document.getElementById(outputId);\n",
              "  // Cache steps on the outputElement to make it available for the next call\n",
              "  // to uploadFilesContinue from Python.\n",
              "  outputElement.steps = steps;\n",
              "\n",
              "  return _uploadFilesContinue(outputId);\n",
              "}\n",
              "\n",
              "// This is roughly an async generator (not supported in the browser yet),\n",
              "// where there are multiple asynchronous steps and the Python side is going\n",
              "// to poll for completion of each step.\n",
              "// This uses a Promise to block the python side on completion of each step,\n",
              "// then passes the result of the previous step as the input to the next step.\n",
              "function _uploadFilesContinue(outputId) {\n",
              "  const outputElement = document.getElementById(outputId);\n",
              "  const steps = outputElement.steps;\n",
              "\n",
              "  const next = steps.next(outputElement.lastPromiseValue);\n",
              "  return Promise.resolve(next.value.promise).then((value) => {\n",
              "    // Cache the last promise value to make it available to the next\n",
              "    // step of the generator.\n",
              "    outputElement.lastPromiseValue = value;\n",
              "    return next.value.response;\n",
              "  });\n",
              "}\n",
              "\n",
              "/**\n",
              " * Generator function which is called between each async step of the upload\n",
              " * process.\n",
              " * @param {string} inputId Element ID of the input file picker element.\n",
              " * @param {string} outputId Element ID of the output display.\n",
              " * @return {!Iterable<!Object>} Iterable of next steps.\n",
              " */\n",
              "function* uploadFilesStep(inputId, outputId) {\n",
              "  const inputElement = document.getElementById(inputId);\n",
              "  inputElement.disabled = false;\n",
              "\n",
              "  const outputElement = document.getElementById(outputId);\n",
              "  outputElement.innerHTML = '';\n",
              "\n",
              "  const pickedPromise = new Promise((resolve) => {\n",
              "    inputElement.addEventListener('change', (e) => {\n",
              "      resolve(e.target.files);\n",
              "    });\n",
              "  });\n",
              "\n",
              "  const cancel = document.createElement('button');\n",
              "  inputElement.parentElement.appendChild(cancel);\n",
              "  cancel.textContent = 'Cancel upload';\n",
              "  const cancelPromise = new Promise((resolve) => {\n",
              "    cancel.onclick = () => {\n",
              "      resolve(null);\n",
              "    };\n",
              "  });\n",
              "\n",
              "  // Wait for the user to pick the files.\n",
              "  const files = yield {\n",
              "    promise: Promise.race([pickedPromise, cancelPromise]),\n",
              "    response: {\n",
              "      action: 'starting',\n",
              "    }\n",
              "  };\n",
              "\n",
              "  cancel.remove();\n",
              "\n",
              "  // Disable the input element since further picks are not allowed.\n",
              "  inputElement.disabled = true;\n",
              "\n",
              "  if (!files) {\n",
              "    return {\n",
              "      response: {\n",
              "        action: 'complete',\n",
              "      }\n",
              "    };\n",
              "  }\n",
              "\n",
              "  for (const file of files) {\n",
              "    const li = document.createElement('li');\n",
              "    li.append(span(file.name, {fontWeight: 'bold'}));\n",
              "    li.append(span(\n",
              "        `(${file.type || 'n/a'}) - ${file.size} bytes, ` +\n",
              "        `last modified: ${\n",
              "            file.lastModifiedDate ? file.lastModifiedDate.toLocaleDateString() :\n",
              "                                    'n/a'} - `));\n",
              "    const percent = span('0% done');\n",
              "    li.appendChild(percent);\n",
              "\n",
              "    outputElement.appendChild(li);\n",
              "\n",
              "    const fileDataPromise = new Promise((resolve) => {\n",
              "      const reader = new FileReader();\n",
              "      reader.onload = (e) => {\n",
              "        resolve(e.target.result);\n",
              "      };\n",
              "      reader.readAsArrayBuffer(file);\n",
              "    });\n",
              "    // Wait for the data to be ready.\n",
              "    let fileData = yield {\n",
              "      promise: fileDataPromise,\n",
              "      response: {\n",
              "        action: 'continue',\n",
              "      }\n",
              "    };\n",
              "\n",
              "    // Use a chunked sending to avoid message size limits. See b/62115660.\n",
              "    let position = 0;\n",
              "    do {\n",
              "      const length = Math.min(fileData.byteLength - position, MAX_PAYLOAD_SIZE);\n",
              "      const chunk = new Uint8Array(fileData, position, length);\n",
              "      position += length;\n",
              "\n",
              "      const base64 = btoa(String.fromCharCode.apply(null, chunk));\n",
              "      yield {\n",
              "        response: {\n",
              "          action: 'append',\n",
              "          file: file.name,\n",
              "          data: base64,\n",
              "        },\n",
              "      };\n",
              "\n",
              "      let percentDone = fileData.byteLength === 0 ?\n",
              "          100 :\n",
              "          Math.round((position / fileData.byteLength) * 100);\n",
              "      percent.textContent = `${percentDone}% done`;\n",
              "\n",
              "    } while (position < fileData.byteLength);\n",
              "  }\n",
              "\n",
              "  // All done.\n",
              "  yield {\n",
              "    response: {\n",
              "      action: 'complete',\n",
              "    }\n",
              "  };\n",
              "}\n",
              "\n",
              "scope.google = scope.google || {};\n",
              "scope.google.colab = scope.google.colab || {};\n",
              "scope.google.colab._files = {\n",
              "  _uploadFiles,\n",
              "  _uploadFilesContinue,\n",
              "};\n",
              "})(self);\n",
              "</script> "
            ]
          },
          "metadata": {}
        },
        {
          "output_type": "stream",
          "name": "stdout",
          "text": [
            "Saving kaggle.json to kaggle.json\n"
          ]
        }
      ]
    },
    {
      "cell_type": "code",
      "source": [
        "# copy API key to kaggle directory\n",
        "! cp kaggle.json ~/.kaggle/"
      ],
      "metadata": {
        "id": "GIADidMy0rpS"
      },
      "execution_count": 9,
      "outputs": []
    },
    {
      "cell_type": "code",
      "source": [
        "# disable API key\n",
        "!chmod 600 /root/.kaggle/kaggle.json"
      ],
      "metadata": {
        "id": "_3olvDds0rr1"
      },
      "execution_count": 10,
      "outputs": []
    },
    {
      "cell_type": "code",
      "source": [
        "# list of datasets\n",
        "! kaggle datasets list"
      ],
      "metadata": {
        "colab": {
          "base_uri": "https://localhost:8080/"
        },
        "id": "I5C5V5H83pn_",
        "outputId": "169150f9-4505-49c5-abec-58c6d9de1708"
      },
      "execution_count": 11,
      "outputs": [
        {
          "output_type": "stream",
          "name": "stdout",
          "text": [
            "ref                                                         title                                              size  lastUpdated          downloadCount  voteCount  usabilityRating  \n",
            "----------------------------------------------------------  ------------------------------------------------  -----  -------------------  -------------  ---------  ---------------  \n",
            "iamsouravbanerjee/customer-shopping-trends-dataset          Customer Shopping Trends Dataset                  146KB  2023-10-05 06:45:37           5390        131  1.0              \n",
            "nelgiriyewithana/top-spotify-songs-2023                     Most Streamed Spotify Songs 2023                   47KB  2023-08-26 11:04:57          32796        986  1.0              \n",
            "nelgiriyewithana/credit-card-fraud-detection-dataset-2023   Credit Card Fraud Detection Dataset 2023          143MB  2023-09-18 10:00:19           5710        195  1.0              \n",
            "nelgiriyewithana/billionaires-statistics-dataset            Billionaires Statistics Dataset (2023)            139KB  2023-09-29 13:39:28           3262        100  1.0              \n",
            "asaniczka/wages-by-education-in-the-usa-1973-2022           Wages by Education in the USA (1973-2022)           7KB  2023-10-09 09:43:40           1198         35  1.0              \n",
            "zedataweaver/global-salary-data                             Global Salary Data                                  5KB  2023-10-03 00:55:24           1846         48  1.0              \n",
            "asaniczka/unemployment-rates-by-demographics-1978-2023      USA Unemployment Rates by Demographics & Race      75KB  2023-10-08 14:46:33            496         24  1.0              \n",
            "anshtanwar/monthly-food-price-estimates                     Monthly Food Price Inflation                       44MB  2023-10-08 05:22:42           1768         44  1.0              \n",
            "nyagami/fc-24-players-database-and-stats-from-easports      EA SPORTS FC 24 FULL PLAYERS DATABASE AND STATS     3MB  2023-10-09 22:43:27            554         27  1.0              \n",
            "gabrielsantello/wholesale-and-retail-orders-dataset         Wholesale & Retail Orders Dataset                   3MB  2023-09-19 09:31:40           1022         29  1.0              \n",
            "abhijitdahatonde/worldwide-average-iq-levels                💡 Worldwide Average IQ Levels 🧠                     2KB  2023-10-15 09:41:14            195         30  1.0              \n",
            "iamsouravbanerjee/heart-attack-prediction-dataset           Heart Attack Risk Prediction Dataset              519KB  2023-09-27 07:07:50           2888         64  1.0              \n",
            "yakhyojon/air-quality-data                                  Air Quality Data                                    7KB  2023-10-12 07:45:04            710         27  1.0              \n",
            "talhabarkaatahmad/laptop-prices-dataset-october-2023        Laptop Prices Dataset - October 2023               63KB  2023-10-09 13:34:58           1246         29  1.0              \n",
            "willianoliveiragibin/10000-data-about-movies-1915-2023      10,000 Data  about movies (1915 - 2023)             1MB  2023-10-11 19:31:12            949         30  1.0              \n",
            "willianoliveiragibin/fatalities-in-the-israeli-palestinian  Fatalities in the Israeli-Palestinian             463KB  2023-10-10 19:02:21            606         44  1.0              \n",
            "yakhyojon/customer-satisfaction-in-airline                  Customer Satisfaction in Airline                    2MB  2023-10-12 09:35:07            731         29  1.0              \n",
            "qnqfbqfqo/electric-vehicle-population-in-washington-state   Electric Vehicle Population in Washington State     5MB  2023-10-10 06:44:26            606         25  1.0              \n",
            "carlmcbrideellis/zzzs-lightweight-training-dataset-target   Zzzs: Lightweight training dataset + target       185MB  2023-09-20 19:52:40           1102         92  1.0              \n",
            "tawfikelmetwally/employee-dataset                           Employee dataset                                   19KB  2023-09-06 18:15:55           8627        144  0.9411765        \n"
          ]
        }
      ]
    },
    {
      "cell_type": "code",
      "source": [
        "# importing the dataset\n",
        "! kaggle datasets download -d tongpython/cat-and-dog"
      ],
      "metadata": {
        "colab": {
          "base_uri": "https://localhost:8080/"
        },
        "id": "Aufd7iMv3pqv",
        "outputId": "b6c3d030-34e6-4ed0-d7f5-a2b19c741736"
      },
      "execution_count": 12,
      "outputs": [
        {
          "output_type": "stream",
          "name": "stdout",
          "text": [
            "Downloading cat-and-dog.zip to /content\n",
            " 94% 204M/218M [00:00<00:00, 244MB/s]\n",
            "100% 218M/218M [00:00<00:00, 248MB/s]\n"
          ]
        }
      ]
    },
    {
      "cell_type": "code",
      "source": [
        "# unzip the dataset\n",
        "! unzip -q /content/cat-and-dog.zip"
      ],
      "metadata": {
        "id": "ioUR08vT3ptC"
      },
      "execution_count": 13,
      "outputs": []
    },
    {
      "cell_type": "markdown",
      "source": [
        "# 3: Building the model"
      ],
      "metadata": {
        "id": "MpYb9rXs5SLN"
      }
    },
    {
      "cell_type": "code",
      "source": [
        "# create an object (Initizile CNN)\n",
        "\n",
        "model = tf.keras.models.Sequential()"
      ],
      "metadata": {
        "id": "B77za6Nj5ORK"
      },
      "execution_count": 14,
      "outputs": []
    },
    {
      "cell_type": "code",
      "source": [
        "# First CNN layer (input)\n",
        "# 1) filters = 64\n",
        "# 2) kernal size = 3\n",
        "# 3) padding = same\n",
        "# 4) activation = relu\n",
        "# 5) input shape =(32, 32, 3)\n",
        "\n",
        "model.add(tf.keras.layers.Conv2D(filters=64, kernel_size=3, padding='same', activation='relu', input_shape = [32, 32, 3]))\n"
      ],
      "metadata": {
        "id": "blVnHM1d5OUS"
      },
      "execution_count": 15,
      "outputs": []
    },
    {
      "cell_type": "code",
      "source": [
        "# Maxpool layer\n",
        "# 1) pool size = 2\n",
        "# 2) strides = 2\n",
        "# 3) padding = valid\n",
        "\n",
        "model.add(tf.keras.layers.MaxPool2D(pool_size=(2, 2), strides=2, padding='valid'))"
      ],
      "metadata": {
        "id": "xvvgT0CR3pvx"
      },
      "execution_count": 16,
      "outputs": []
    },
    {
      "cell_type": "code",
      "source": [
        "# Second CNN layer and maxpool layer\n",
        "\n",
        "model.add(tf.keras.layers.Conv2D(filters=64, kernel_size=3, padding='same', activation='relu'))\n",
        "\n",
        "\n",
        "model.add(tf.keras.layers.MaxPool2D(pool_size=(2, 2), strides=2, padding='valid'))"
      ],
      "metadata": {
        "id": "lY0X42fB9EVN"
      },
      "execution_count": 17,
      "outputs": []
    },
    {
      "cell_type": "code",
      "source": [
        "# Flattening layer\n",
        "\n",
        "model.add(tf.keras.layers.Flatten())"
      ],
      "metadata": {
        "id": "1x-vUUEY9EYF"
      },
      "execution_count": 18,
      "outputs": []
    },
    {
      "cell_type": "code",
      "source": [
        "# Dropout layer\n",
        "\n",
        "model.add(tf.keras.layers.Dropout(0.4))"
      ],
      "metadata": {
        "id": "QZlOxQHT8e3C"
      },
      "execution_count": 19,
      "outputs": []
    },
    {
      "cell_type": "code",
      "source": [
        "# Fully connected layer\n",
        "\n",
        "model.add(tf.keras.layers.Dense(units=128, activation='relu'))\n"
      ],
      "metadata": {
        "id": "JLHtxHCE9oP9"
      },
      "execution_count": 20,
      "outputs": []
    },
    {
      "cell_type": "code",
      "source": [
        "# Output layer\n",
        "\n",
        "model.add(tf.keras.layers.Dense(units=1, activation='sigmoid'))"
      ],
      "metadata": {
        "id": "TPY3D5QY9oTD"
      },
      "execution_count": 21,
      "outputs": []
    },
    {
      "cell_type": "code",
      "source": [
        "# Compile the model\n",
        "\n",
        "model.compile(optimizer='adam', loss='binary_crossentropy', metrics=['accuracy'])"
      ],
      "metadata": {
        "id": "rkRqfJPb-K5G"
      },
      "execution_count": 22,
      "outputs": []
    },
    {
      "cell_type": "markdown",
      "source": [
        "# 4: Fitting CNN to images"
      ],
      "metadata": {
        "id": "wAT7r07r-o-F"
      }
    },
    {
      "cell_type": "code",
      "source": [
        "from tensorflow.keras.preprocessing.image import ImageDataGenerator"
      ],
      "metadata": {
        "id": "sr5-ci7L-K76"
      },
      "execution_count": 23,
      "outputs": []
    },
    {
      "cell_type": "code",
      "source": [
        "training_data_dir = '/content/training_set/training_set'\n",
        "test_data_dir = '/content/test_set/test_set'"
      ],
      "metadata": {
        "id": "3EuS3ho2-m89"
      },
      "execution_count": 24,
      "outputs": []
    },
    {
      "cell_type": "code",
      "source": [
        "# Rescale images\n",
        "\n",
        "datagen = ImageDataGenerator(rescale=1./255)"
      ],
      "metadata": {
        "id": "3Zg1EiVw_M9g"
      },
      "execution_count": 25,
      "outputs": []
    },
    {
      "cell_type": "code",
      "source": [
        "training_set = datagen.flow_from_directory(directory=training_data_dir, target_size=(32, 32), classes=['dogs', 'cats'],\n",
        "                                           class_mode = 'binary', batch_size = 20)\n",
        "\n",
        "test_set = datagen.flow_from_directory(directory=test_data_dir, target_size=(32, 32), classes=['dogs', 'cats'],\n",
        "                                           class_mode = 'binary', batch_size = 20)"
      ],
      "metadata": {
        "colab": {
          "base_uri": "https://localhost:8080/"
        },
        "id": "NLrcKy_k_NAg",
        "outputId": "96988604-e56b-4709-92cf-84a98a26fc48"
      },
      "execution_count": 26,
      "outputs": [
        {
          "output_type": "stream",
          "name": "stdout",
          "text": [
            "Found 8005 images belonging to 2 classes.\n",
            "Found 2023 images belonging to 2 classes.\n"
          ]
        }
      ]
    },
    {
      "cell_type": "code",
      "source": [
        "len(training_set), len(test_set)"
      ],
      "metadata": {
        "colab": {
          "base_uri": "https://localhost:8080/"
        },
        "id": "2say_iIU_c4f",
        "outputId": "26b0d7cb-3c7c-41ca-dc10-96a10ca2a4c3"
      },
      "execution_count": 27,
      "outputs": [
        {
          "output_type": "execute_result",
          "data": {
            "text/plain": [
              "(401, 102)"
            ]
          },
          "metadata": {},
          "execution_count": 27
        }
      ]
    },
    {
      "cell_type": "code",
      "source": [
        "len(training_set) *20, len(test_set) *20"
      ],
      "metadata": {
        "colab": {
          "base_uri": "https://localhost:8080/"
        },
        "id": "hsX7i5tx_c89",
        "outputId": "80e53d2b-f7cb-4b56-84c4-3aee6a38edd9"
      },
      "execution_count": 28,
      "outputs": [
        {
          "output_type": "execute_result",
          "data": {
            "text/plain": [
              "(8020, 2040)"
            ]
          },
          "metadata": {},
          "execution_count": 28
        }
      ]
    },
    {
      "cell_type": "code",
      "source": [
        "test_set.batch_size"
      ],
      "metadata": {
        "colab": {
          "base_uri": "https://localhost:8080/"
        },
        "id": "p5DofLLU_c_x",
        "outputId": "64721c29-c5b3-44ee-a91f-5f29f871c728"
      },
      "execution_count": 29,
      "outputs": [
        {
          "output_type": "execute_result",
          "data": {
            "text/plain": [
              "20"
            ]
          },
          "metadata": {},
          "execution_count": 29
        }
      ]
    },
    {
      "cell_type": "code",
      "source": [
        "history = model.fit_generator(generator=training_set, steps_per_epoch=401, epochs=20, validation_data=test_set, validation_steps=102)"
      ],
      "metadata": {
        "id": "EtKEKdP30ryR",
        "colab": {
          "base_uri": "https://localhost:8080/"
        },
        "outputId": "221da122-fe97-402e-82c9-e1ffa9ebcb25"
      },
      "execution_count": 30,
      "outputs": [
        {
          "output_type": "stream",
          "name": "stdout",
          "text": [
            "Epoch 1/20\n"
          ]
        },
        {
          "output_type": "stream",
          "name": "stderr",
          "text": [
            "<ipython-input-30-2b34cd491ee1>:1: UserWarning: `Model.fit_generator` is deprecated and will be removed in a future version. Please use `Model.fit`, which supports generators.\n",
            "  history = model.fit_generator(generator=training_set, steps_per_epoch=401, epochs=20, validation_data=test_set, validation_steps=102)\n"
          ]
        },
        {
          "output_type": "stream",
          "name": "stdout",
          "text": [
            "401/401 [==============================] - 39s 95ms/step - loss: 0.6683 - accuracy: 0.5799 - val_loss: 0.6328 - val_accuracy: 0.6347\n",
            "Epoch 2/20\n",
            "401/401 [==============================] - 34s 85ms/step - loss: 0.6040 - accuracy: 0.6738 - val_loss: 0.6226 - val_accuracy: 0.6372\n",
            "Epoch 3/20\n",
            "401/401 [==============================] - 36s 90ms/step - loss: 0.5762 - accuracy: 0.6982 - val_loss: 0.5562 - val_accuracy: 0.7355\n",
            "Epoch 4/20\n",
            "401/401 [==============================] - 35s 88ms/step - loss: 0.5205 - accuracy: 0.7368 - val_loss: 0.5746 - val_accuracy: 0.6817\n",
            "Epoch 5/20\n",
            "401/401 [==============================] - 37s 92ms/step - loss: 0.4930 - accuracy: 0.7621 - val_loss: 0.5150 - val_accuracy: 0.7543\n",
            "Epoch 6/20\n",
            "401/401 [==============================] - 36s 90ms/step - loss: 0.4587 - accuracy: 0.7846 - val_loss: 0.4959 - val_accuracy: 0.7632\n",
            "Epoch 7/20\n",
            "401/401 [==============================] - 34s 85ms/step - loss: 0.4333 - accuracy: 0.7990 - val_loss: 0.4881 - val_accuracy: 0.7647\n",
            "Epoch 8/20\n",
            "401/401 [==============================] - 38s 95ms/step - loss: 0.4074 - accuracy: 0.8117 - val_loss: 0.5246 - val_accuracy: 0.7632\n",
            "Epoch 9/20\n",
            "401/401 [==============================] - 36s 91ms/step - loss: 0.3752 - accuracy: 0.8301 - val_loss: 0.4809 - val_accuracy: 0.7711\n",
            "Epoch 10/20\n",
            "401/401 [==============================] - 36s 90ms/step - loss: 0.3397 - accuracy: 0.8525 - val_loss: 0.4958 - val_accuracy: 0.7711\n",
            "Epoch 11/20\n",
            "401/401 [==============================] - 34s 85ms/step - loss: 0.3086 - accuracy: 0.8640 - val_loss: 0.5524 - val_accuracy: 0.7593\n",
            "Epoch 12/20\n",
            "401/401 [==============================] - 35s 86ms/step - loss: 0.2703 - accuracy: 0.8903 - val_loss: 0.5621 - val_accuracy: 0.7652\n",
            "Epoch 13/20\n",
            "401/401 [==============================] - 35s 87ms/step - loss: 0.2446 - accuracy: 0.8981 - val_loss: 0.5708 - val_accuracy: 0.7751\n",
            "Epoch 14/20\n",
            "401/401 [==============================] - 36s 89ms/step - loss: 0.2273 - accuracy: 0.9039 - val_loss: 0.5777 - val_accuracy: 0.7677\n",
            "Epoch 15/20\n",
            "401/401 [==============================] - 34s 85ms/step - loss: 0.1870 - accuracy: 0.9240 - val_loss: 0.5943 - val_accuracy: 0.7612\n",
            "Epoch 16/20\n",
            "401/401 [==============================] - 36s 90ms/step - loss: 0.1781 - accuracy: 0.9275 - val_loss: 0.6249 - val_accuracy: 0.7667\n",
            "Epoch 17/20\n",
            "401/401 [==============================] - 35s 88ms/step - loss: 0.1447 - accuracy: 0.9455 - val_loss: 0.6594 - val_accuracy: 0.7637\n",
            "Epoch 18/20\n",
            "401/401 [==============================] - 35s 87ms/step - loss: 0.1381 - accuracy: 0.9482 - val_loss: 0.6589 - val_accuracy: 0.7608\n",
            "Epoch 19/20\n",
            "401/401 [==============================] - 35s 86ms/step - loss: 0.1149 - accuracy: 0.9559 - val_loss: 0.6987 - val_accuracy: 0.7677\n",
            "Epoch 20/20\n",
            "401/401 [==============================] - 34s 86ms/step - loss: 0.1086 - accuracy: 0.9600 - val_loss: 0.7042 - val_accuracy: 0.7612\n"
          ]
        }
      ]
    },
    {
      "cell_type": "markdown",
      "source": [
        "# 5: Plotting the learning curve"
      ],
      "metadata": {
        "id": "DQx-Yl2-EaDC"
      }
    },
    {
      "cell_type": "code",
      "source": [
        "def learning_curve(history, epoch):\n",
        "\n",
        "  # training vs validation accuracy\n",
        "  epoch_range = range(1, epoch+1)\n",
        "  plt.plot(epoch_range, history.history['accuracy'])\n",
        "  plt.plot(epoch_range, history.history['val_accuracy'])\n",
        "  plt.title('Model Accuracy')\n",
        "  plt.ylabel('Accuracy')\n",
        "  plt.xlabel('Epoch')\n",
        "  plt.legend(['Train', 'val'], loc='upper left')\n",
        "  plt.show()\n",
        "\n",
        "\n",
        "  # training vs validation loss\n",
        "  plt.plot(epoch_range, history.history['loss'])\n",
        "  plt.plot(epoch_range, history.history['val_loss'])\n",
        "  plt.title('Model Loss')\n",
        "  plt.ylabel('Loss')\n",
        "  plt.xlabel('Epoch')\n",
        "  plt.legend(['Train', 'val'], loc='upper left')\n",
        "  plt.show()"
      ],
      "metadata": {
        "id": "BmytSlMjEZh2"
      },
      "execution_count": 33,
      "outputs": []
    },
    {
      "cell_type": "code",
      "source": [
        "learning_curve(history, 20)"
      ],
      "metadata": {
        "colab": {
          "base_uri": "https://localhost:8080/",
          "height": 927
        },
        "id": "-ZKbRq5WESwL",
        "outputId": "2b1625bb-e8cc-432f-876f-9871a526eda5"
      },
      "execution_count": 34,
      "outputs": [
        {
          "output_type": "display_data",
          "data": {
            "text/plain": [
              "<Figure size 640x480 with 1 Axes>"
            ],
            "image/png": "[encoded data removed]"
          },
          "metadata": {}
        },
        {
          "output_type": "display_data",
          "data": {
            "text/plain": [
              "<Figure size 640x480 with 1 Axes>"
            ],
            "image/png": "[encoded data removed]"
          },
          "metadata": {}
        }
      ]
    }
  ]
}